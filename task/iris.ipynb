{
 "cells": [
  {
   "cell_type": "code",
   "execution_count": 72,
   "metadata": {},
   "outputs": [],
   "source": [
    "import numpy as np\n",
    "from sklearn import datasets\n",
    "\n",
    "# データセットのロード\n",
    "iris = datasets.load_iris()\n",
    "\n",
    "# ８割のデータをトレーニングセットに設定\n",
    "train_indices = np.random.choice(len(iris.data), round(len(iris.data)*0.8), replace=False)\n",
    "# 残りのデータをテストセットに設定\n",
    "test_indices = np.array(list(set(range(len(iris.data))) - set(train_indices)))\n",
    "\n",
    "x_train = iris.data[train_indices]\n",
    "x_test = iris.data[test_indices]\n",
    "y_train = iris.target[train_indices]\n",
    "y_test = iris.target[test_indices]\n",
    "\n",
    "# 正規化\n",
    "def normalize_cols(m):\n",
    "    col_max = m.max(axis=0)\n",
    "    col_min = m.min(axis=0)\n",
    "    return (m-col_min) / (col_max - col_min)\n",
    "\n",
    "x_train = np.nan_to_num(normalize_cols(x_train))\n",
    "x_test = np.nan_to_num(normalize_cols(x_test))\n",
    "batch_size = 30\n"
   ]
  },
  {
   "cell_type": "code",
   "execution_count": 2,
   "metadata": {},
   "outputs": [],
   "source": []
  },
  {
   "cell_type": "code",
   "execution_count": null,
   "metadata": {},
   "outputs": [],
   "source": []
  }
 ],
 "metadata": {
  "kernelspec": {
   "display_name": "Python 3",
   "language": "python",
   "name": "python3"
  },
  "language_info": {
   "codemirror_mode": {
    "name": "ipython",
    "version": 3
   },
   "file_extension": ".py",
   "mimetype": "text/x-python",
   "name": "python",
   "nbconvert_exporter": "python",
   "pygments_lexer": "ipython3",
   "version": "3.6.7"
  }
 },
 "nbformat": 4,
 "nbformat_minor": 2
}
